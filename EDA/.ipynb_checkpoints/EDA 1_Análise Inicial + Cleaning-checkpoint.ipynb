{
 "cells": [
  {
   "cell_type": "markdown",
   "id": "5cf5599d",
   "metadata": {},
   "source": [
    "## Importando bibliotecas"
   ]
  },
  {
   "cell_type": "code",
   "execution_count": 1,
   "id": "5f9ab588",
   "metadata": {},
   "outputs": [],
   "source": [
    "import pandas as pd\n",
    "import numpy as np"
   ]
  },
  {
   "cell_type": "code",
   "execution_count": 2,
   "id": "91e47a58",
   "metadata": {},
   "outputs": [],
   "source": [
    "from pandas_profiling import ProfileReport"
   ]
  },
  {
   "cell_type": "markdown",
   "id": "fc1ac132",
   "metadata": {},
   "source": [
    "# Carregando DataSets"
   ]
  },
  {
   "cell_type": "markdown",
   "id": "a8f638cb",
   "metadata": {},
   "source": [
    "Referência: *https://dados.gov.br/dataset/ocorrencias-aeronauticas-da-aviacao-civil-brasileira*"
   ]
  },
  {
   "cell_type": "code",
   "execution_count": 3,
   "id": "9f594700",
   "metadata": {},
   "outputs": [],
   "source": [
    "ocorrencia_df = pd.read_csv('../DataSets/raw/ocorrencia.csv', sep=';')\n",
    "ocorrencia_tipo_df = pd.read_csv('../DataSets/raw/ocorrencia_tipo.csv', sep=';')\n",
    "aeronave_df = pd.read_csv('../DataSets/raw/aeronave.csv', sep=';')\n",
    "fator_contribuinte_df = pd.read_csv('../DataSets/raw/fator_contribuinte.csv', sep=';')\n",
    "recomendacao_df = pd.read_csv('../DataSets/raw/recomendacao.csv', sep=';')"
   ]
  },
  {
   "cell_type": "markdown",
   "id": "e10eac45",
   "metadata": {},
   "source": [
    "---------------------------------"
   ]
  },
  {
   "cell_type": "markdown",
   "id": "353e19d7",
   "metadata": {},
   "source": [
    "# Conhecendo os DataFrames"
   ]
  },
  {
   "cell_type": "markdown",
   "id": "44c30d69",
   "metadata": {},
   "source": [
    "Para a análise inicial dos DataFrames (DFs) vamos seguir os seguintes passos: \n",
    "- Visualizar o head do DF, para entender a organização geral da base\n",
    "- Utilizar o método info para entender características gerais do arquivo\n",
    "- Fazer um profiling para informações mais detalhadas"
   ]
  },
  {
   "cell_type": "markdown",
   "id": "5d04f70c",
   "metadata": {},
   "source": [
    "## Ocorrencia"
   ]
  },
  {
   "cell_type": "code",
   "execution_count": 4,
   "id": "c1a17b5b",
   "metadata": {},
   "outputs": [
    {
     "data": {
      "text/html": [
       "<div>\n",
       "<style scoped>\n",
       "    .dataframe tbody tr th:only-of-type {\n",
       "        vertical-align: middle;\n",
       "    }\n",
       "\n",
       "    .dataframe tbody tr th {\n",
       "        vertical-align: top;\n",
       "    }\n",
       "\n",
       "    .dataframe thead th {\n",
       "        text-align: right;\n",
       "    }\n",
       "</style>\n",
       "<table border=\"1\" class=\"dataframe\">\n",
       "  <thead>\n",
       "    <tr style=\"text-align: right;\">\n",
       "      <th></th>\n",
       "      <th>codigo_ocorrencia</th>\n",
       "      <th>codigo_ocorrencia1</th>\n",
       "      <th>codigo_ocorrencia2</th>\n",
       "      <th>codigo_ocorrencia3</th>\n",
       "      <th>codigo_ocorrencia4</th>\n",
       "      <th>ocorrencia_classificacao</th>\n",
       "      <th>ocorrencia_latitude</th>\n",
       "      <th>ocorrencia_longitude</th>\n",
       "      <th>ocorrencia_cidade</th>\n",
       "      <th>ocorrencia_uf</th>\n",
       "      <th>...</th>\n",
       "      <th>ocorrencia_dia</th>\n",
       "      <th>ocorrencia_hora</th>\n",
       "      <th>investigacao_aeronave_liberada</th>\n",
       "      <th>investigacao_status</th>\n",
       "      <th>divulgacao_relatorio_numero</th>\n",
       "      <th>divulgacao_relatorio_publicado</th>\n",
       "      <th>divulgacao_dia_publicacao</th>\n",
       "      <th>total_recomendacoes</th>\n",
       "      <th>total_aeronaves_envolvidas</th>\n",
       "      <th>ocorrencia_saida_pista</th>\n",
       "    </tr>\n",
       "  </thead>\n",
       "  <tbody>\n",
       "    <tr>\n",
       "      <th>0</th>\n",
       "      <td>52242</td>\n",
       "      <td>52242</td>\n",
       "      <td>52242</td>\n",
       "      <td>52242</td>\n",
       "      <td>52242</td>\n",
       "      <td>INCIDENTE</td>\n",
       "      <td>NaN</td>\n",
       "      <td>NaN</td>\n",
       "      <td>PORTO ALEGRE</td>\n",
       "      <td>RS</td>\n",
       "      <td>...</td>\n",
       "      <td>05/01/2012</td>\n",
       "      <td>20:27:00</td>\n",
       "      <td>***</td>\n",
       "      <td>FINALIZADA</td>\n",
       "      <td>***</td>\n",
       "      <td>NÃO</td>\n",
       "      <td>NaN</td>\n",
       "      <td>0</td>\n",
       "      <td>1</td>\n",
       "      <td>NÃO</td>\n",
       "    </tr>\n",
       "    <tr>\n",
       "      <th>1</th>\n",
       "      <td>45331</td>\n",
       "      <td>45331</td>\n",
       "      <td>45331</td>\n",
       "      <td>45331</td>\n",
       "      <td>45331</td>\n",
       "      <td>ACIDENTE</td>\n",
       "      <td>-23.4355555556</td>\n",
       "      <td>-46.4730555556</td>\n",
       "      <td>GUARULHOS</td>\n",
       "      <td>SP</td>\n",
       "      <td>...</td>\n",
       "      <td>06/01/2012</td>\n",
       "      <td>13:44:00</td>\n",
       "      <td>SIM</td>\n",
       "      <td>FINALIZADA</td>\n",
       "      <td>A-582/CENIPA/2014</td>\n",
       "      <td>SIM</td>\n",
       "      <td>2016-09-01</td>\n",
       "      <td>3</td>\n",
       "      <td>1</td>\n",
       "      <td>NÃO</td>\n",
       "    </tr>\n",
       "    <tr>\n",
       "      <th>2</th>\n",
       "      <td>45333</td>\n",
       "      <td>45333</td>\n",
       "      <td>45333</td>\n",
       "      <td>45333</td>\n",
       "      <td>45333</td>\n",
       "      <td>ACIDENTE</td>\n",
       "      <td>***</td>\n",
       "      <td>***</td>\n",
       "      <td>VIAMÃO</td>\n",
       "      <td>RS</td>\n",
       "      <td>...</td>\n",
       "      <td>06/01/2012</td>\n",
       "      <td>13:00:00</td>\n",
       "      <td>NaN</td>\n",
       "      <td>FINALIZADA</td>\n",
       "      <td>A-070/CENIPA/2013</td>\n",
       "      <td>SIM</td>\n",
       "      <td>2013-11-27</td>\n",
       "      <td>0</td>\n",
       "      <td>1</td>\n",
       "      <td>NÃO</td>\n",
       "    </tr>\n",
       "    <tr>\n",
       "      <th>3</th>\n",
       "      <td>45401</td>\n",
       "      <td>45401</td>\n",
       "      <td>45401</td>\n",
       "      <td>45401</td>\n",
       "      <td>45401</td>\n",
       "      <td>ACIDENTE</td>\n",
       "      <td>***</td>\n",
       "      <td>***</td>\n",
       "      <td>SÃO SEBASTIÃO</td>\n",
       "      <td>SP</td>\n",
       "      <td>...</td>\n",
       "      <td>06/01/2012</td>\n",
       "      <td>17:00:00</td>\n",
       "      <td>***</td>\n",
       "      <td>NaN</td>\n",
       "      <td>NaN</td>\n",
       "      <td>NÃO</td>\n",
       "      <td>NaN</td>\n",
       "      <td>0</td>\n",
       "      <td>1</td>\n",
       "      <td>NÃO</td>\n",
       "    </tr>\n",
       "    <tr>\n",
       "      <th>4</th>\n",
       "      <td>45407</td>\n",
       "      <td>45407</td>\n",
       "      <td>45407</td>\n",
       "      <td>45407</td>\n",
       "      <td>45407</td>\n",
       "      <td>ACIDENTE</td>\n",
       "      <td>***</td>\n",
       "      <td>***</td>\n",
       "      <td>SÃO SEPÉ</td>\n",
       "      <td>RS</td>\n",
       "      <td>...</td>\n",
       "      <td>06/01/2012</td>\n",
       "      <td>16:30:00</td>\n",
       "      <td>SIM</td>\n",
       "      <td>FINALIZADA</td>\n",
       "      <td>A-071/CENIPA/2013</td>\n",
       "      <td>SIM</td>\n",
       "      <td>2013-11-27</td>\n",
       "      <td>0</td>\n",
       "      <td>1</td>\n",
       "      <td>NÃO</td>\n",
       "    </tr>\n",
       "    <tr>\n",
       "      <th>5</th>\n",
       "      <td>52243</td>\n",
       "      <td>52243</td>\n",
       "      <td>52243</td>\n",
       "      <td>52243</td>\n",
       "      <td>52243</td>\n",
       "      <td>INCIDENTE</td>\n",
       "      <td>NaN</td>\n",
       "      <td>NaN</td>\n",
       "      <td>UBATUBA</td>\n",
       "      <td>SP</td>\n",
       "      <td>...</td>\n",
       "      <td>06/01/2012</td>\n",
       "      <td>14:30:00</td>\n",
       "      <td>***</td>\n",
       "      <td>FINALIZADA</td>\n",
       "      <td>***</td>\n",
       "      <td>NÃO</td>\n",
       "      <td>NaN</td>\n",
       "      <td>0</td>\n",
       "      <td>1</td>\n",
       "      <td>NÃO</td>\n",
       "    </tr>\n",
       "    <tr>\n",
       "      <th>6</th>\n",
       "      <td>50713</td>\n",
       "      <td>50713</td>\n",
       "      <td>50713</td>\n",
       "      <td>50713</td>\n",
       "      <td>50713</td>\n",
       "      <td>INCIDENTE GRAVE</td>\n",
       "      <td>***</td>\n",
       "      <td>***</td>\n",
       "      <td>CAMPINAS</td>\n",
       "      <td>SP</td>\n",
       "      <td>...</td>\n",
       "      <td>07/01/2012</td>\n",
       "      <td>18:15:00</td>\n",
       "      <td>SIM</td>\n",
       "      <td>FINALIZADA</td>\n",
       "      <td>IG-184/CENIPA/2013</td>\n",
       "      <td>SIM</td>\n",
       "      <td>2014-01-08</td>\n",
       "      <td>0</td>\n",
       "      <td>1</td>\n",
       "      <td>NÃO</td>\n",
       "    </tr>\n",
       "    <tr>\n",
       "      <th>7</th>\n",
       "      <td>45334</td>\n",
       "      <td>45334</td>\n",
       "      <td>45334</td>\n",
       "      <td>45334</td>\n",
       "      <td>45334</td>\n",
       "      <td>INCIDENTE</td>\n",
       "      <td>NaN</td>\n",
       "      <td>NaN</td>\n",
       "      <td>BELÉM</td>\n",
       "      <td>PA</td>\n",
       "      <td>...</td>\n",
       "      <td>08/01/2012</td>\n",
       "      <td>19:12:00</td>\n",
       "      <td>***</td>\n",
       "      <td>FINALIZADA</td>\n",
       "      <td>***</td>\n",
       "      <td>NÃO</td>\n",
       "      <td>NaN</td>\n",
       "      <td>0</td>\n",
       "      <td>1</td>\n",
       "      <td>NÃO</td>\n",
       "    </tr>\n",
       "    <tr>\n",
       "      <th>8</th>\n",
       "      <td>45391</td>\n",
       "      <td>45391</td>\n",
       "      <td>45391</td>\n",
       "      <td>45391</td>\n",
       "      <td>45391</td>\n",
       "      <td>ACIDENTE</td>\n",
       "      <td>-19.9133333333</td>\n",
       "      <td>-48.2930555556</td>\n",
       "      <td>CONCEIÇÃO DAS ALAGOAS</td>\n",
       "      <td>MG</td>\n",
       "      <td>...</td>\n",
       "      <td>08/01/2012</td>\n",
       "      <td>16:00:00</td>\n",
       "      <td>***</td>\n",
       "      <td>FINALIZADA</td>\n",
       "      <td>A DEFINIR</td>\n",
       "      <td>NÃO</td>\n",
       "      <td>NaN</td>\n",
       "      <td>0</td>\n",
       "      <td>1</td>\n",
       "      <td>NÃO</td>\n",
       "    </tr>\n",
       "    <tr>\n",
       "      <th>9</th>\n",
       "      <td>52244</td>\n",
       "      <td>52244</td>\n",
       "      <td>52244</td>\n",
       "      <td>52244</td>\n",
       "      <td>52244</td>\n",
       "      <td>INCIDENTE</td>\n",
       "      <td>***</td>\n",
       "      <td>***</td>\n",
       "      <td>UBERLÂNDIA</td>\n",
       "      <td>MG</td>\n",
       "      <td>...</td>\n",
       "      <td>08/01/2012</td>\n",
       "      <td>22:13:00</td>\n",
       "      <td>***</td>\n",
       "      <td>FINALIZADA</td>\n",
       "      <td>***</td>\n",
       "      <td>NÃO</td>\n",
       "      <td>NaN</td>\n",
       "      <td>0</td>\n",
       "      <td>1</td>\n",
       "      <td>NÃO</td>\n",
       "    </tr>\n",
       "  </tbody>\n",
       "</table>\n",
       "<p>10 rows × 22 columns</p>\n",
       "</div>"
      ],
      "text/plain": [
       "   codigo_ocorrencia  codigo_ocorrencia1  codigo_ocorrencia2  \\\n",
       "0              52242               52242               52242   \n",
       "1              45331               45331               45331   \n",
       "2              45333               45333               45333   \n",
       "3              45401               45401               45401   \n",
       "4              45407               45407               45407   \n",
       "5              52243               52243               52243   \n",
       "6              50713               50713               50713   \n",
       "7              45334               45334               45334   \n",
       "8              45391               45391               45391   \n",
       "9              52244               52244               52244   \n",
       "\n",
       "   codigo_ocorrencia3  codigo_ocorrencia4 ocorrencia_classificacao  \\\n",
       "0               52242               52242                INCIDENTE   \n",
       "1               45331               45331                 ACIDENTE   \n",
       "2               45333               45333                 ACIDENTE   \n",
       "3               45401               45401                 ACIDENTE   \n",
       "4               45407               45407                 ACIDENTE   \n",
       "5               52243               52243                INCIDENTE   \n",
       "6               50713               50713          INCIDENTE GRAVE   \n",
       "7               45334               45334                INCIDENTE   \n",
       "8               45391               45391                 ACIDENTE   \n",
       "9               52244               52244                INCIDENTE   \n",
       "\n",
       "  ocorrencia_latitude ocorrencia_longitude      ocorrencia_cidade  \\\n",
       "0                 NaN                  NaN           PORTO ALEGRE   \n",
       "1      -23.4355555556       -46.4730555556              GUARULHOS   \n",
       "2                 ***                  ***                 VIAMÃO   \n",
       "3                 ***                  ***          SÃO SEBASTIÃO   \n",
       "4                 ***                  ***               SÃO SEPÉ   \n",
       "5                 NaN                  NaN                UBATUBA   \n",
       "6                 ***                  ***               CAMPINAS   \n",
       "7                 NaN                  NaN                  BELÉM   \n",
       "8      -19.9133333333       -48.2930555556  CONCEIÇÃO DAS ALAGOAS   \n",
       "9                 ***                  ***             UBERLÂNDIA   \n",
       "\n",
       "  ocorrencia_uf  ... ocorrencia_dia ocorrencia_hora  \\\n",
       "0            RS  ...     05/01/2012        20:27:00   \n",
       "1            SP  ...     06/01/2012        13:44:00   \n",
       "2            RS  ...     06/01/2012        13:00:00   \n",
       "3            SP  ...     06/01/2012        17:00:00   \n",
       "4            RS  ...     06/01/2012        16:30:00   \n",
       "5            SP  ...     06/01/2012        14:30:00   \n",
       "6            SP  ...     07/01/2012        18:15:00   \n",
       "7            PA  ...     08/01/2012        19:12:00   \n",
       "8            MG  ...     08/01/2012        16:00:00   \n",
       "9            MG  ...     08/01/2012        22:13:00   \n",
       "\n",
       "  investigacao_aeronave_liberada investigacao_status  \\\n",
       "0                            ***          FINALIZADA   \n",
       "1                            SIM          FINALIZADA   \n",
       "2                            NaN          FINALIZADA   \n",
       "3                            ***                 NaN   \n",
       "4                            SIM          FINALIZADA   \n",
       "5                            ***          FINALIZADA   \n",
       "6                            SIM          FINALIZADA   \n",
       "7                            ***          FINALIZADA   \n",
       "8                            ***          FINALIZADA   \n",
       "9                            ***          FINALIZADA   \n",
       "\n",
       "  divulgacao_relatorio_numero divulgacao_relatorio_publicado  \\\n",
       "0                         ***                            NÃO   \n",
       "1           A-582/CENIPA/2014                            SIM   \n",
       "2           A-070/CENIPA/2013                            SIM   \n",
       "3                         NaN                            NÃO   \n",
       "4           A-071/CENIPA/2013                            SIM   \n",
       "5                         ***                            NÃO   \n",
       "6          IG-184/CENIPA/2013                            SIM   \n",
       "7                         ***                            NÃO   \n",
       "8                   A DEFINIR                            NÃO   \n",
       "9                         ***                            NÃO   \n",
       "\n",
       "  divulgacao_dia_publicacao total_recomendacoes total_aeronaves_envolvidas  \\\n",
       "0                       NaN                   0                          1   \n",
       "1                2016-09-01                   3                          1   \n",
       "2                2013-11-27                   0                          1   \n",
       "3                       NaN                   0                          1   \n",
       "4                2013-11-27                   0                          1   \n",
       "5                       NaN                   0                          1   \n",
       "6                2014-01-08                   0                          1   \n",
       "7                       NaN                   0                          1   \n",
       "8                       NaN                   0                          1   \n",
       "9                       NaN                   0                          1   \n",
       "\n",
       "   ocorrencia_saida_pista  \n",
       "0                     NÃO  \n",
       "1                     NÃO  \n",
       "2                     NÃO  \n",
       "3                     NÃO  \n",
       "4                     NÃO  \n",
       "5                     NÃO  \n",
       "6                     NÃO  \n",
       "7                     NÃO  \n",
       "8                     NÃO  \n",
       "9                     NÃO  \n",
       "\n",
       "[10 rows x 22 columns]"
      ]
     },
     "execution_count": 4,
     "metadata": {},
     "output_type": "execute_result"
    }
   ],
   "source": [
    "ocorrencia_df.head(10)"
   ]
  },
  {
   "cell_type": "code",
   "execution_count": 5,
   "id": "fc358834",
   "metadata": {},
   "outputs": [
    {
     "name": "stdout",
     "output_type": "stream",
     "text": [
      "<class 'pandas.core.frame.DataFrame'>\n",
      "RangeIndex: 5167 entries, 0 to 5166\n",
      "Data columns (total 22 columns):\n",
      " #   Column                          Non-Null Count  Dtype \n",
      "---  ------                          --------------  ----- \n",
      " 0   codigo_ocorrencia               5167 non-null   int64 \n",
      " 1   codigo_ocorrencia1              5167 non-null   int64 \n",
      " 2   codigo_ocorrencia2              5167 non-null   int64 \n",
      " 3   codigo_ocorrencia3              5167 non-null   int64 \n",
      " 4   codigo_ocorrencia4              5167 non-null   int64 \n",
      " 5   ocorrencia_classificacao        5167 non-null   object\n",
      " 6   ocorrencia_latitude             4192 non-null   object\n",
      " 7   ocorrencia_longitude            4192 non-null   object\n",
      " 8   ocorrencia_cidade               5167 non-null   object\n",
      " 9   ocorrencia_uf                   5167 non-null   object\n",
      " 10  ocorrencia_pais                 5167 non-null   object\n",
      " 11  ocorrencia_aerodromo            5167 non-null   object\n",
      " 12  ocorrencia_dia                  5167 non-null   object\n",
      " 13  ocorrencia_hora                 5166 non-null   object\n",
      " 14  investigacao_aeronave_liberada  5001 non-null   object\n",
      " 15  investigacao_status             4910 non-null   object\n",
      " 16  divulgacao_relatorio_numero     4783 non-null   object\n",
      " 17  divulgacao_relatorio_publicado  5167 non-null   object\n",
      " 18  divulgacao_dia_publicacao       1351 non-null   object\n",
      " 19  total_recomendacoes             5167 non-null   int64 \n",
      " 20  total_aeronaves_envolvidas      5167 non-null   int64 \n",
      " 21  ocorrencia_saida_pista          5167 non-null   object\n",
      "dtypes: int64(7), object(15)\n",
      "memory usage: 888.2+ KB\n"
     ]
    }
   ],
   "source": [
    "ocorrencia_df.info()"
   ]
  },
  {
   "cell_type": "code",
   "execution_count": 6,
   "id": "0b8674cc",
   "metadata": {},
   "outputs": [
    {
     "data": {
      "application/vnd.jupyter.widget-view+json": {
       "model_id": "7f98617de3f34b15a9c8d2674bcff29f",
       "version_major": 2,
       "version_minor": 0
      },
      "text/plain": [
       "Summarize dataset:   0%|          | 0/5 [00:00<?, ?it/s]"
      ]
     },
     "metadata": {},
     "output_type": "display_data"
    },
    {
     "data": {
      "application/vnd.jupyter.widget-view+json": {
       "model_id": "31dda38e485a45a2b0cf478e23465e07",
       "version_major": 2,
       "version_minor": 0
      },
      "text/plain": [
       "Generate report structure:   0%|          | 0/1 [00:00<?, ?it/s]"
      ]
     },
     "metadata": {},
     "output_type": "display_data"
    },
    {
     "data": {
      "application/vnd.jupyter.widget-view+json": {
       "model_id": "04e45bc076e24ae99acdd0fba64714d4",
       "version_major": 2,
       "version_minor": 0
      },
      "text/plain": [
       "Render HTML:   0%|          | 0/1 [00:00<?, ?it/s]"
      ]
     },
     "metadata": {},
     "output_type": "display_data"
    },
    {
     "data": {
      "application/vnd.jupyter.widget-view+json": {
       "model_id": "e944fd63d9904e88b0dbb4edbb3338fe",
       "version_major": 2,
       "version_minor": 0
      },
      "text/plain": [
       "Export report to file:   0%|          | 0/1 [00:00<?, ?it/s]"
      ]
     },
     "metadata": {},
     "output_type": "display_data"
    }
   ],
   "source": [
    "prof_ocorrencia = ProfileReport(ocorrencia_df)\n",
    "prof_ocorrencia.to_file(output_file='../Profiling/profiling_ocorrencia.html')"
   ]
  },
  {
   "cell_type": "markdown",
   "id": "0cfb06fd",
   "metadata": {},
   "source": [
    "## Tipo de Ocorrência"
   ]
  },
  {
   "cell_type": "code",
   "execution_count": 7,
   "id": "74eacbce",
   "metadata": {},
   "outputs": [
    {
     "data": {
      "text/html": [
       "<div>\n",
       "<style scoped>\n",
       "    .dataframe tbody tr th:only-of-type {\n",
       "        vertical-align: middle;\n",
       "    }\n",
       "\n",
       "    .dataframe tbody tr th {\n",
       "        vertical-align: top;\n",
       "    }\n",
       "\n",
       "    .dataframe thead th {\n",
       "        text-align: right;\n",
       "    }\n",
       "</style>\n",
       "<table border=\"1\" class=\"dataframe\">\n",
       "  <thead>\n",
       "    <tr style=\"text-align: right;\">\n",
       "      <th></th>\n",
       "      <th>codigo_ocorrencia1</th>\n",
       "      <th>ocorrencia_tipo</th>\n",
       "      <th>ocorrencia_tipo_categoria</th>\n",
       "      <th>taxonomia_tipo_icao</th>\n",
       "    </tr>\n",
       "  </thead>\n",
       "  <tbody>\n",
       "    <tr>\n",
       "      <th>0</th>\n",
       "      <td>45331</td>\n",
       "      <td>COM PESSOAL EM VOO</td>\n",
       "      <td>OUTROS | COM PESSOAL EM VOO</td>\n",
       "      <td>OTHR</td>\n",
       "    </tr>\n",
       "    <tr>\n",
       "      <th>1</th>\n",
       "      <td>45332</td>\n",
       "      <td>PERDA DE CONTROLE NO SOLO</td>\n",
       "      <td>PERDA DE CONTROLE NO SOLO</td>\n",
       "      <td>LOC-G</td>\n",
       "    </tr>\n",
       "    <tr>\n",
       "      <th>2</th>\n",
       "      <td>45333</td>\n",
       "      <td>FALHA DO MOTOR EM VOO</td>\n",
       "      <td>FALHA OU MAU FUNCIONAMENTO DO MOTOR | FALHA DO...</td>\n",
       "      <td>SCF-PP</td>\n",
       "    </tr>\n",
       "    <tr>\n",
       "      <th>3</th>\n",
       "      <td>45334</td>\n",
       "      <td>ESTOURO DE PNEU</td>\n",
       "      <td>FALHA OU MAU FUNCIONAMENTO DE SISTEMA / COMPON...</td>\n",
       "      <td>SCF-NP</td>\n",
       "    </tr>\n",
       "    <tr>\n",
       "      <th>4</th>\n",
       "      <td>45390</td>\n",
       "      <td>OPERAÇÃO A BAIXA ALTITUDE</td>\n",
       "      <td>OPERAÇÃO A BAIXA ALTITUDE</td>\n",
       "      <td>LALT</td>\n",
       "    </tr>\n",
       "    <tr>\n",
       "      <th>5</th>\n",
       "      <td>45391</td>\n",
       "      <td>FALHA DO MOTOR EM VOO</td>\n",
       "      <td>FALHA OU MAU FUNCIONAMENTO DO MOTOR | FALHA DO...</td>\n",
       "      <td>SCF-PP</td>\n",
       "    </tr>\n",
       "    <tr>\n",
       "      <th>6</th>\n",
       "      <td>45392</td>\n",
       "      <td>PERDA DE CONTROLE EM VOO</td>\n",
       "      <td>PERDA DE CONTROLE EM VOO</td>\n",
       "      <td>LOC-I</td>\n",
       "    </tr>\n",
       "    <tr>\n",
       "      <th>7</th>\n",
       "      <td>45393</td>\n",
       "      <td>EXCURSÃO DE PISTA</td>\n",
       "      <td>EXCURSÃO DE PISTA</td>\n",
       "      <td>RE</td>\n",
       "    </tr>\n",
       "    <tr>\n",
       "      <th>8</th>\n",
       "      <td>45393</td>\n",
       "      <td>PERDA DE CONTROLE NO SOLO</td>\n",
       "      <td>PERDA DE CONTROLE NO SOLO</td>\n",
       "      <td>LOC-G</td>\n",
       "    </tr>\n",
       "    <tr>\n",
       "      <th>9</th>\n",
       "      <td>45396</td>\n",
       "      <td>COM TREM DE POUSO</td>\n",
       "      <td>FALHA OU MAU FUNCIONAMENTO DE SISTEMA / COMPON...</td>\n",
       "      <td>SCF-NP</td>\n",
       "    </tr>\n",
       "  </tbody>\n",
       "</table>\n",
       "</div>"
      ],
      "text/plain": [
       "   codigo_ocorrencia1            ocorrencia_tipo  \\\n",
       "0               45331         COM PESSOAL EM VOO   \n",
       "1               45332  PERDA DE CONTROLE NO SOLO   \n",
       "2               45333      FALHA DO MOTOR EM VOO   \n",
       "3               45334            ESTOURO DE PNEU   \n",
       "4               45390  OPERAÇÃO A BAIXA ALTITUDE   \n",
       "5               45391      FALHA DO MOTOR EM VOO   \n",
       "6               45392   PERDA DE CONTROLE EM VOO   \n",
       "7               45393          EXCURSÃO DE PISTA   \n",
       "8               45393  PERDA DE CONTROLE NO SOLO   \n",
       "9               45396          COM TREM DE POUSO   \n",
       "\n",
       "                           ocorrencia_tipo_categoria taxonomia_tipo_icao  \n",
       "0                        OUTROS | COM PESSOAL EM VOO                OTHR  \n",
       "1                          PERDA DE CONTROLE NO SOLO               LOC-G  \n",
       "2  FALHA OU MAU FUNCIONAMENTO DO MOTOR | FALHA DO...              SCF-PP  \n",
       "3  FALHA OU MAU FUNCIONAMENTO DE SISTEMA / COMPON...              SCF-NP  \n",
       "4                          OPERAÇÃO A BAIXA ALTITUDE                LALT  \n",
       "5  FALHA OU MAU FUNCIONAMENTO DO MOTOR | FALHA DO...              SCF-PP  \n",
       "6                           PERDA DE CONTROLE EM VOO               LOC-I  \n",
       "7                                  EXCURSÃO DE PISTA                  RE  \n",
       "8                          PERDA DE CONTROLE NO SOLO               LOC-G  \n",
       "9  FALHA OU MAU FUNCIONAMENTO DE SISTEMA / COMPON...              SCF-NP  "
      ]
     },
     "execution_count": 7,
     "metadata": {},
     "output_type": "execute_result"
    }
   ],
   "source": [
    "ocorrencia_tipo_df.head(10)"
   ]
  },
  {
   "cell_type": "code",
   "execution_count": 8,
   "id": "5d6666d5",
   "metadata": {},
   "outputs": [
    {
     "name": "stdout",
     "output_type": "stream",
     "text": [
      "<class 'pandas.core.frame.DataFrame'>\n",
      "RangeIndex: 5347 entries, 0 to 5346\n",
      "Data columns (total 4 columns):\n",
      " #   Column                     Non-Null Count  Dtype \n",
      "---  ------                     --------------  ----- \n",
      " 0   codigo_ocorrencia1         5347 non-null   int64 \n",
      " 1   ocorrencia_tipo            5346 non-null   object\n",
      " 2   ocorrencia_tipo_categoria  5346 non-null   object\n",
      " 3   taxonomia_tipo_icao        5346 non-null   object\n",
      "dtypes: int64(1), object(3)\n",
      "memory usage: 167.2+ KB\n"
     ]
    }
   ],
   "source": [
    "ocorrencia_tipo_df.info()"
   ]
  },
  {
   "cell_type": "code",
   "execution_count": 9,
   "id": "5a359eb4",
   "metadata": {},
   "outputs": [
    {
     "data": {
      "application/vnd.jupyter.widget-view+json": {
       "model_id": "c425efdadd04454f8f6e0d89773d59df",
       "version_major": 2,
       "version_minor": 0
      },
      "text/plain": [
       "Summarize dataset:   0%|          | 0/5 [00:00<?, ?it/s]"
      ]
     },
     "metadata": {},
     "output_type": "display_data"
    },
    {
     "data": {
      "application/vnd.jupyter.widget-view+json": {
       "model_id": "677cb7147239498fbf0725e0b5fecf58",
       "version_major": 2,
       "version_minor": 0
      },
      "text/plain": [
       "Generate report structure:   0%|          | 0/1 [00:00<?, ?it/s]"
      ]
     },
     "metadata": {},
     "output_type": "display_data"
    },
    {
     "data": {
      "application/vnd.jupyter.widget-view+json": {
       "model_id": "55219beb90ad4f53b720d9ac7039b89f",
       "version_major": 2,
       "version_minor": 0
      },
      "text/plain": [
       "Render HTML:   0%|          | 0/1 [00:00<?, ?it/s]"
      ]
     },
     "metadata": {},
     "output_type": "display_data"
    },
    {
     "data": {
      "application/vnd.jupyter.widget-view+json": {
       "model_id": "942adcf370634d7ab1accecd11875f26",
       "version_major": 2,
       "version_minor": 0
      },
      "text/plain": [
       "Export report to file:   0%|          | 0/1 [00:00<?, ?it/s]"
      ]
     },
     "metadata": {},
     "output_type": "display_data"
    }
   ],
   "source": [
    "prof_ocorrencia_tipo = ProfileReport(ocorrencia_tipo_df)\n",
    "prof_ocorrencia_tipo.to_file(output_file='../Profiling/profiling_ocorrencia_tipo.html')"
   ]
  },
  {
   "cell_type": "markdown",
   "id": "5a89d080",
   "metadata": {},
   "source": [
    "## Aeronave"
   ]
  },
  {
   "cell_type": "code",
   "execution_count": 10,
   "id": "b22160c5",
   "metadata": {},
   "outputs": [
    {
     "data": {
      "text/html": [
       "<div>\n",
       "<style scoped>\n",
       "    .dataframe tbody tr th:only-of-type {\n",
       "        vertical-align: middle;\n",
       "    }\n",
       "\n",
       "    .dataframe tbody tr th {\n",
       "        vertical-align: top;\n",
       "    }\n",
       "\n",
       "    .dataframe thead th {\n",
       "        text-align: right;\n",
       "    }\n",
       "</style>\n",
       "<table border=\"1\" class=\"dataframe\">\n",
       "  <thead>\n",
       "    <tr style=\"text-align: right;\">\n",
       "      <th></th>\n",
       "      <th>codigo_ocorrencia2</th>\n",
       "      <th>aeronave_matricula</th>\n",
       "      <th>aeronave_operador_categoria</th>\n",
       "      <th>aeronave_tipo_veiculo</th>\n",
       "      <th>aeronave_fabricante</th>\n",
       "      <th>aeronave_modelo</th>\n",
       "      <th>aeronave_tipo_icao</th>\n",
       "      <th>aeronave_motor_tipo</th>\n",
       "      <th>aeronave_motor_quantidade</th>\n",
       "      <th>aeronave_pmd</th>\n",
       "      <th>...</th>\n",
       "      <th>aeronave_pais_fabricante</th>\n",
       "      <th>aeronave_pais_registro</th>\n",
       "      <th>aeronave_registro_categoria</th>\n",
       "      <th>aeronave_registro_segmento</th>\n",
       "      <th>aeronave_voo_origem</th>\n",
       "      <th>aeronave_voo_destino</th>\n",
       "      <th>aeronave_fase_operacao</th>\n",
       "      <th>aeronave_tipo_operacao</th>\n",
       "      <th>aeronave_nivel_dano</th>\n",
       "      <th>aeronave_fatalidades_total</th>\n",
       "    </tr>\n",
       "  </thead>\n",
       "  <tbody>\n",
       "    <tr>\n",
       "      <th>0</th>\n",
       "      <td>45331</td>\n",
       "      <td>PRTKB</td>\n",
       "      <td>***</td>\n",
       "      <td>AVIÃO</td>\n",
       "      <td>AEROSPATIALE AND ALENIA</td>\n",
       "      <td>ATR-42-500</td>\n",
       "      <td>AT45</td>\n",
       "      <td>TURBOÉLICE</td>\n",
       "      <td>BIMOTOR</td>\n",
       "      <td>18600</td>\n",
       "      <td>...</td>\n",
       "      <td>BRASIL</td>\n",
       "      <td>BRASIL</td>\n",
       "      <td>AVIÃO</td>\n",
       "      <td>REGULAR</td>\n",
       "      <td>FORA DE AERODROMO</td>\n",
       "      <td>FORA DE AERODROMO</td>\n",
       "      <td>DESCIDA</td>\n",
       "      <td>REGULAR</td>\n",
       "      <td>NENHUM</td>\n",
       "      <td>0</td>\n",
       "    </tr>\n",
       "    <tr>\n",
       "      <th>1</th>\n",
       "      <td>45332</td>\n",
       "      <td>PTUDD</td>\n",
       "      <td>***</td>\n",
       "      <td>AVIÃO</td>\n",
       "      <td>NEIVA INDUSTRIA AERONAUTICA</td>\n",
       "      <td>EMB-201A</td>\n",
       "      <td>IPAN</td>\n",
       "      <td>PISTÃO</td>\n",
       "      <td>MONOMOTOR</td>\n",
       "      <td>1800</td>\n",
       "      <td>...</td>\n",
       "      <td>BRASIL</td>\n",
       "      <td>BRASIL</td>\n",
       "      <td>AVIÃO</td>\n",
       "      <td>ESPECIALIZADA</td>\n",
       "      <td>FORA DE AERODROMO</td>\n",
       "      <td>FORA DE AERODROMO</td>\n",
       "      <td>DECOLAGEM</td>\n",
       "      <td>AGRÍCOLA</td>\n",
       "      <td>SUBSTANCIAL</td>\n",
       "      <td>0</td>\n",
       "    </tr>\n",
       "    <tr>\n",
       "      <th>2</th>\n",
       "      <td>45333</td>\n",
       "      <td>PTGOO</td>\n",
       "      <td>***</td>\n",
       "      <td>AVIÃO</td>\n",
       "      <td>NEIVA INDUSTRIA AERONAUTICA</td>\n",
       "      <td>EMB-201</td>\n",
       "      <td>IPAN</td>\n",
       "      <td>PISTÃO</td>\n",
       "      <td>MONOMOTOR</td>\n",
       "      <td>1800</td>\n",
       "      <td>...</td>\n",
       "      <td>BRASIL</td>\n",
       "      <td>BRASIL</td>\n",
       "      <td>AVIÃO</td>\n",
       "      <td>ESPECIALIZADA</td>\n",
       "      <td>FORA DE AERODROMO</td>\n",
       "      <td>FORA DE AERODROMO</td>\n",
       "      <td>ESPECIALIZADA</td>\n",
       "      <td>AGRÍCOLA</td>\n",
       "      <td>SUBSTANCIAL</td>\n",
       "      <td>0</td>\n",
       "    </tr>\n",
       "    <tr>\n",
       "      <th>3</th>\n",
       "      <td>45334</td>\n",
       "      <td>PRMHX</td>\n",
       "      <td>REGULAR</td>\n",
       "      <td>AVIÃO</td>\n",
       "      <td>AIRBUS INDUSTRIE</td>\n",
       "      <td>A320-214</td>\n",
       "      <td>A320</td>\n",
       "      <td>JATO</td>\n",
       "      <td>BIMOTOR</td>\n",
       "      <td>77000</td>\n",
       "      <td>...</td>\n",
       "      <td>BRASIL</td>\n",
       "      <td>BRASIL</td>\n",
       "      <td>AVIÃO</td>\n",
       "      <td>REGULAR</td>\n",
       "      <td>FORA DE AERODROMO</td>\n",
       "      <td>FORA DE AERODROMO</td>\n",
       "      <td>CORRIDA APÓS POUSO</td>\n",
       "      <td>REGULAR</td>\n",
       "      <td>LEVE</td>\n",
       "      <td>0</td>\n",
       "    </tr>\n",
       "    <tr>\n",
       "      <th>4</th>\n",
       "      <td>45390</td>\n",
       "      <td>PTUEW</td>\n",
       "      <td>***</td>\n",
       "      <td>AVIÃO</td>\n",
       "      <td>NEIVA INDUSTRIA AERONAUTICA</td>\n",
       "      <td>EMB-201A</td>\n",
       "      <td>IPAN</td>\n",
       "      <td>PISTÃO</td>\n",
       "      <td>MONOMOTOR</td>\n",
       "      <td>1800</td>\n",
       "      <td>...</td>\n",
       "      <td>BRASIL</td>\n",
       "      <td>BRASIL</td>\n",
       "      <td>AVIÃO</td>\n",
       "      <td>AGRÍCOLA</td>\n",
       "      <td>FORA DE AERODROMO</td>\n",
       "      <td>FORA DE AERODROMO</td>\n",
       "      <td>ESPECIALIZADA</td>\n",
       "      <td>AGRÍCOLA</td>\n",
       "      <td>SUBSTANCIAL</td>\n",
       "      <td>0</td>\n",
       "    </tr>\n",
       "    <tr>\n",
       "      <th>5</th>\n",
       "      <td>45391</td>\n",
       "      <td>PTLUP</td>\n",
       "      <td>PARTICULAR</td>\n",
       "      <td>AVIÃO</td>\n",
       "      <td>CESSNA AIRCRAFT</td>\n",
       "      <td>P210N</td>\n",
       "      <td>P210</td>\n",
       "      <td>PISTÃO</td>\n",
       "      <td>MONOMOTOR</td>\n",
       "      <td>1812</td>\n",
       "      <td>...</td>\n",
       "      <td>BRASIL</td>\n",
       "      <td>BRASIL</td>\n",
       "      <td>AVIÃO</td>\n",
       "      <td>PARTICULAR</td>\n",
       "      <td>FORA DE AERODROMO</td>\n",
       "      <td>FORA DE AERODROMO</td>\n",
       "      <td>CRUZEIRO</td>\n",
       "      <td>PRIVADA</td>\n",
       "      <td>SUBSTANCIAL</td>\n",
       "      <td>0</td>\n",
       "    </tr>\n",
       "    <tr>\n",
       "      <th>6</th>\n",
       "      <td>45392</td>\n",
       "      <td>PPMOF</td>\n",
       "      <td>***</td>\n",
       "      <td>HELICÓPTERO</td>\n",
       "      <td>ROBINSON HELICOPTER</td>\n",
       "      <td>R44</td>\n",
       "      <td>R44</td>\n",
       "      <td>TURBOEIXO</td>\n",
       "      <td>MONOMOTOR</td>\n",
       "      <td>1088</td>\n",
       "      <td>...</td>\n",
       "      <td>BRASIL</td>\n",
       "      <td>BRASIL</td>\n",
       "      <td>HELICÓPTERO</td>\n",
       "      <td>PARTICULAR</td>\n",
       "      <td>PRESIDENTE JUSCELINO KUBITSCHEK</td>\n",
       "      <td>SANTA GENOVEVA/GOIÂNIA</td>\n",
       "      <td>DECOLAGEM</td>\n",
       "      <td>PRIVADA</td>\n",
       "      <td>SUBSTANCIAL</td>\n",
       "      <td>0</td>\n",
       "    </tr>\n",
       "    <tr>\n",
       "      <th>7</th>\n",
       "      <td>45393</td>\n",
       "      <td>PTDHU</td>\n",
       "      <td>***</td>\n",
       "      <td>AVIÃO</td>\n",
       "      <td>PIPER AIRCRAFT</td>\n",
       "      <td>PA-30</td>\n",
       "      <td>PA30</td>\n",
       "      <td>PISTÃO</td>\n",
       "      <td>BIMOTOR</td>\n",
       "      <td>1633</td>\n",
       "      <td>...</td>\n",
       "      <td>BRASIL</td>\n",
       "      <td>BRASIL</td>\n",
       "      <td>AVIÃO</td>\n",
       "      <td>INSTRUÇÃO</td>\n",
       "      <td>FRANCISCO DE ASSIS</td>\n",
       "      <td>SANTOS DUMONT</td>\n",
       "      <td>POUSO</td>\n",
       "      <td>INSTRUÇÃO</td>\n",
       "      <td>SUBSTANCIAL</td>\n",
       "      <td>0</td>\n",
       "    </tr>\n",
       "    <tr>\n",
       "      <th>8</th>\n",
       "      <td>45396</td>\n",
       "      <td>PRJMR</td>\n",
       "      <td>***</td>\n",
       "      <td>AVIÃO</td>\n",
       "      <td>PIPER AIRCRAFT</td>\n",
       "      <td>PA-34-220T</td>\n",
       "      <td>PA34</td>\n",
       "      <td>PISTÃO</td>\n",
       "      <td>BIMOTOR</td>\n",
       "      <td>2155</td>\n",
       "      <td>...</td>\n",
       "      <td>BRASIL</td>\n",
       "      <td>BRASIL</td>\n",
       "      <td>AVIÃO</td>\n",
       "      <td>PARTICULAR</td>\n",
       "      <td>JOÃO CORREA DA ROCHA</td>\n",
       "      <td>CARAJÁS</td>\n",
       "      <td>SUBIDA</td>\n",
       "      <td>PRIVADA</td>\n",
       "      <td>LEVE</td>\n",
       "      <td>0</td>\n",
       "    </tr>\n",
       "    <tr>\n",
       "      <th>9</th>\n",
       "      <td>45397</td>\n",
       "      <td>PTYLS</td>\n",
       "      <td>***</td>\n",
       "      <td>HELICÓPTERO</td>\n",
       "      <td>EUROCOPTER FRANCE</td>\n",
       "      <td>AS 350 B2</td>\n",
       "      <td>AS50</td>\n",
       "      <td>TURBOEIXO</td>\n",
       "      <td>MONOMOTOR</td>\n",
       "      <td>2250</td>\n",
       "      <td>...</td>\n",
       "      <td>BRASIL</td>\n",
       "      <td>BRASIL</td>\n",
       "      <td>HELICÓPTERO</td>\n",
       "      <td>MÚLTIPLA</td>\n",
       "      <td>SANTOS DUMONT</td>\n",
       "      <td>ANGRA DOS REIS</td>\n",
       "      <td>CRUZEIRO</td>\n",
       "      <td>NÃO REGULAR</td>\n",
       "      <td>SUBSTANCIAL</td>\n",
       "      <td>0</td>\n",
       "    </tr>\n",
       "  </tbody>\n",
       "</table>\n",
       "<p>10 rows × 23 columns</p>\n",
       "</div>"
      ],
      "text/plain": [
       "   codigo_ocorrencia2 aeronave_matricula aeronave_operador_categoria  \\\n",
       "0               45331              PRTKB                         ***   \n",
       "1               45332              PTUDD                         ***   \n",
       "2               45333              PTGOO                         ***   \n",
       "3               45334              PRMHX                     REGULAR   \n",
       "4               45390              PTUEW                         ***   \n",
       "5               45391              PTLUP                  PARTICULAR   \n",
       "6               45392              PPMOF                         ***   \n",
       "7               45393              PTDHU                         ***   \n",
       "8               45396              PRJMR                         ***   \n",
       "9               45397              PTYLS                         ***   \n",
       "\n",
       "  aeronave_tipo_veiculo          aeronave_fabricante aeronave_modelo  \\\n",
       "0                 AVIÃO      AEROSPATIALE AND ALENIA      ATR-42-500   \n",
       "1                 AVIÃO  NEIVA INDUSTRIA AERONAUTICA        EMB-201A   \n",
       "2                 AVIÃO  NEIVA INDUSTRIA AERONAUTICA         EMB-201   \n",
       "3                 AVIÃO             AIRBUS INDUSTRIE        A320-214   \n",
       "4                 AVIÃO  NEIVA INDUSTRIA AERONAUTICA        EMB-201A   \n",
       "5                 AVIÃO              CESSNA AIRCRAFT           P210N   \n",
       "6           HELICÓPTERO          ROBINSON HELICOPTER             R44   \n",
       "7                 AVIÃO               PIPER AIRCRAFT           PA-30   \n",
       "8                 AVIÃO               PIPER AIRCRAFT      PA-34-220T   \n",
       "9           HELICÓPTERO            EUROCOPTER FRANCE       AS 350 B2   \n",
       "\n",
       "  aeronave_tipo_icao aeronave_motor_tipo aeronave_motor_quantidade  \\\n",
       "0               AT45          TURBOÉLICE                   BIMOTOR   \n",
       "1               IPAN              PISTÃO                 MONOMOTOR   \n",
       "2               IPAN              PISTÃO                 MONOMOTOR   \n",
       "3               A320                JATO                   BIMOTOR   \n",
       "4               IPAN              PISTÃO                 MONOMOTOR   \n",
       "5               P210              PISTÃO                 MONOMOTOR   \n",
       "6                R44           TURBOEIXO                 MONOMOTOR   \n",
       "7               PA30              PISTÃO                   BIMOTOR   \n",
       "8               PA34              PISTÃO                   BIMOTOR   \n",
       "9               AS50           TURBOEIXO                 MONOMOTOR   \n",
       "\n",
       "   aeronave_pmd  ...  aeronave_pais_fabricante  aeronave_pais_registro  \\\n",
       "0         18600  ...                    BRASIL                  BRASIL   \n",
       "1          1800  ...                    BRASIL                  BRASIL   \n",
       "2          1800  ...                    BRASIL                  BRASIL   \n",
       "3         77000  ...                    BRASIL                  BRASIL   \n",
       "4          1800  ...                    BRASIL                  BRASIL   \n",
       "5          1812  ...                    BRASIL                  BRASIL   \n",
       "6          1088  ...                    BRASIL                  BRASIL   \n",
       "7          1633  ...                    BRASIL                  BRASIL   \n",
       "8          2155  ...                    BRASIL                  BRASIL   \n",
       "9          2250  ...                    BRASIL                  BRASIL   \n",
       "\n",
       "   aeronave_registro_categoria aeronave_registro_segmento  \\\n",
       "0                        AVIÃO                    REGULAR   \n",
       "1                        AVIÃO              ESPECIALIZADA   \n",
       "2                        AVIÃO              ESPECIALIZADA   \n",
       "3                        AVIÃO                    REGULAR   \n",
       "4                        AVIÃO                   AGRÍCOLA   \n",
       "5                        AVIÃO                 PARTICULAR   \n",
       "6                  HELICÓPTERO                 PARTICULAR   \n",
       "7                        AVIÃO                  INSTRUÇÃO   \n",
       "8                        AVIÃO                 PARTICULAR   \n",
       "9                  HELICÓPTERO                   MÚLTIPLA   \n",
       "\n",
       "               aeronave_voo_origem    aeronave_voo_destino  \\\n",
       "0                FORA DE AERODROMO       FORA DE AERODROMO   \n",
       "1                FORA DE AERODROMO       FORA DE AERODROMO   \n",
       "2                FORA DE AERODROMO       FORA DE AERODROMO   \n",
       "3                FORA DE AERODROMO       FORA DE AERODROMO   \n",
       "4                FORA DE AERODROMO       FORA DE AERODROMO   \n",
       "5                FORA DE AERODROMO       FORA DE AERODROMO   \n",
       "6  PRESIDENTE JUSCELINO KUBITSCHEK  SANTA GENOVEVA/GOIÂNIA   \n",
       "7               FRANCISCO DE ASSIS           SANTOS DUMONT   \n",
       "8             JOÃO CORREA DA ROCHA                 CARAJÁS   \n",
       "9                    SANTOS DUMONT          ANGRA DOS REIS   \n",
       "\n",
       "  aeronave_fase_operacao aeronave_tipo_operacao aeronave_nivel_dano  \\\n",
       "0                DESCIDA                REGULAR              NENHUM   \n",
       "1              DECOLAGEM               AGRÍCOLA         SUBSTANCIAL   \n",
       "2          ESPECIALIZADA               AGRÍCOLA         SUBSTANCIAL   \n",
       "3     CORRIDA APÓS POUSO                REGULAR                LEVE   \n",
       "4          ESPECIALIZADA               AGRÍCOLA         SUBSTANCIAL   \n",
       "5               CRUZEIRO                PRIVADA         SUBSTANCIAL   \n",
       "6              DECOLAGEM                PRIVADA         SUBSTANCIAL   \n",
       "7                  POUSO              INSTRUÇÃO         SUBSTANCIAL   \n",
       "8                 SUBIDA                PRIVADA                LEVE   \n",
       "9               CRUZEIRO            NÃO REGULAR         SUBSTANCIAL   \n",
       "\n",
       "  aeronave_fatalidades_total  \n",
       "0                          0  \n",
       "1                          0  \n",
       "2                          0  \n",
       "3                          0  \n",
       "4                          0  \n",
       "5                          0  \n",
       "6                          0  \n",
       "7                          0  \n",
       "8                          0  \n",
       "9                          0  \n",
       "\n",
       "[10 rows x 23 columns]"
      ]
     },
     "execution_count": 10,
     "metadata": {},
     "output_type": "execute_result"
    }
   ],
   "source": [
    "aeronave_df.head(10)"
   ]
  },
  {
   "cell_type": "code",
   "execution_count": 11,
   "id": "539e3b75",
   "metadata": {},
   "outputs": [
    {
     "name": "stdout",
     "output_type": "stream",
     "text": [
      "<class 'pandas.core.frame.DataFrame'>\n",
      "RangeIndex: 5235 entries, 0 to 5234\n",
      "Data columns (total 23 columns):\n",
      " #   Column                       Non-Null Count  Dtype  \n",
      "---  ------                       --------------  -----  \n",
      " 0   codigo_ocorrencia2           5235 non-null   int64  \n",
      " 1   aeronave_matricula           5235 non-null   object \n",
      " 2   aeronave_operador_categoria  5235 non-null   object \n",
      " 3   aeronave_tipo_veiculo        5235 non-null   object \n",
      " 4   aeronave_fabricante          5235 non-null   object \n",
      " 5   aeronave_modelo              5235 non-null   object \n",
      " 6   aeronave_tipo_icao           5235 non-null   object \n",
      " 7   aeronave_motor_tipo          5230 non-null   object \n",
      " 8   aeronave_motor_quantidade    5235 non-null   object \n",
      " 9   aeronave_pmd                 5235 non-null   int64  \n",
      " 10  aeronave_pmd_categoria       5235 non-null   int64  \n",
      " 11  aeronave_assentos            5041 non-null   float64\n",
      " 12  aeronave_ano_fabricacao      5035 non-null   float64\n",
      " 13  aeronave_pais_fabricante     5235 non-null   object \n",
      " 14  aeronave_pais_registro       5235 non-null   object \n",
      " 15  aeronave_registro_categoria  5235 non-null   object \n",
      " 16  aeronave_registro_segmento   5235 non-null   object \n",
      " 17  aeronave_voo_origem          5234 non-null   object \n",
      " 18  aeronave_voo_destino         5234 non-null   object \n",
      " 19  aeronave_fase_operacao       5235 non-null   object \n",
      " 20  aeronave_tipo_operacao       5235 non-null   object \n",
      " 21  aeronave_nivel_dano          5235 non-null   object \n",
      " 22  aeronave_fatalidades_total   5235 non-null   int64  \n",
      "dtypes: float64(2), int64(4), object(17)\n",
      "memory usage: 940.8+ KB\n"
     ]
    }
   ],
   "source": [
    "aeronave_df.info()"
   ]
  },
  {
   "cell_type": "code",
   "execution_count": 12,
   "id": "528a6ee8",
   "metadata": {},
   "outputs": [
    {
     "data": {
      "application/vnd.jupyter.widget-view+json": {
       "model_id": "88f2b21bfc094cdda49b4747be482e5d",
       "version_major": 2,
       "version_minor": 0
      },
      "text/plain": [
       "Summarize dataset:   0%|          | 0/5 [00:00<?, ?it/s]"
      ]
     },
     "metadata": {},
     "output_type": "display_data"
    },
    {
     "data": {
      "application/vnd.jupyter.widget-view+json": {
       "model_id": "c931c5786f4d4977a883384991c183dc",
       "version_major": 2,
       "version_minor": 0
      },
      "text/plain": [
       "Generate report structure:   0%|          | 0/1 [00:00<?, ?it/s]"
      ]
     },
     "metadata": {},
     "output_type": "display_data"
    },
    {
     "data": {
      "application/vnd.jupyter.widget-view+json": {
       "model_id": "7f757d15eece490bade52b6e932091eb",
       "version_major": 2,
       "version_minor": 0
      },
      "text/plain": [
       "Render HTML:   0%|          | 0/1 [00:00<?, ?it/s]"
      ]
     },
     "metadata": {},
     "output_type": "display_data"
    },
    {
     "data": {
      "application/vnd.jupyter.widget-view+json": {
       "model_id": "3dc9e68d5b2d4584a8cb447721b11c48",
       "version_major": 2,
       "version_minor": 0
      },
      "text/plain": [
       "Export report to file:   0%|          | 0/1 [00:00<?, ?it/s]"
      ]
     },
     "metadata": {},
     "output_type": "display_data"
    }
   ],
   "source": [
    "prof_aeronave = ProfileReport(aeronave_df)\n",
    "prof_aeronave.to_file(output_file='../Profiling/profiling_aeronave.html')"
   ]
  },
  {
   "cell_type": "markdown",
   "id": "cb21984a",
   "metadata": {},
   "source": [
    "## Fator contribuinte"
   ]
  },
  {
   "cell_type": "code",
   "execution_count": 13,
   "id": "52d49748",
   "metadata": {},
   "outputs": [
    {
     "data": {
      "text/html": [
       "<div>\n",
       "<style scoped>\n",
       "    .dataframe tbody tr th:only-of-type {\n",
       "        vertical-align: middle;\n",
       "    }\n",
       "\n",
       "    .dataframe tbody tr th {\n",
       "        vertical-align: top;\n",
       "    }\n",
       "\n",
       "    .dataframe thead th {\n",
       "        text-align: right;\n",
       "    }\n",
       "</style>\n",
       "<table border=\"1\" class=\"dataframe\">\n",
       "  <thead>\n",
       "    <tr style=\"text-align: right;\">\n",
       "      <th></th>\n",
       "      <th>codigo_ocorrencia3</th>\n",
       "      <th>fator_nome</th>\n",
       "      <th>fator_aspecto</th>\n",
       "      <th>fator_condicionante</th>\n",
       "      <th>fator_area</th>\n",
       "    </tr>\n",
       "  </thead>\n",
       "  <tbody>\n",
       "    <tr>\n",
       "      <th>0</th>\n",
       "      <td>45331</td>\n",
       "      <td>APLICAÇÃO DE COMANDOS</td>\n",
       "      <td>DESEMPENHO DO SER HUMANO</td>\n",
       "      <td>OPERAÇÃO DA AERONAVE</td>\n",
       "      <td>FATOR OPERACIONAL</td>\n",
       "    </tr>\n",
       "    <tr>\n",
       "      <th>1</th>\n",
       "      <td>45331</td>\n",
       "      <td>ATENÇÃO</td>\n",
       "      <td>ASPECTO PSICOLÓGICO</td>\n",
       "      <td>INDIVIDUAL</td>\n",
       "      <td>FATOR HUMANO</td>\n",
       "    </tr>\n",
       "    <tr>\n",
       "      <th>2</th>\n",
       "      <td>45331</td>\n",
       "      <td>CAPACITAÇÃO E TREINAMENTO</td>\n",
       "      <td>ASPECTO PSICOLÓGICO</td>\n",
       "      <td>ORGANIZACIONAL</td>\n",
       "      <td>FATOR HUMANO</td>\n",
       "    </tr>\n",
       "    <tr>\n",
       "      <th>3</th>\n",
       "      <td>45331</td>\n",
       "      <td>CLIMA ORGANIZACIONAL</td>\n",
       "      <td>ASPECTO PSICOLÓGICO</td>\n",
       "      <td>ORGANIZACIONAL</td>\n",
       "      <td>FATOR HUMANO</td>\n",
       "    </tr>\n",
       "    <tr>\n",
       "      <th>4</th>\n",
       "      <td>45331</td>\n",
       "      <td>COMUNICAÇÃO</td>\n",
       "      <td>ASPECTO PSICOLÓGICO</td>\n",
       "      <td>PSICOSSOCIAL</td>\n",
       "      <td>FATOR HUMANO</td>\n",
       "    </tr>\n",
       "    <tr>\n",
       "      <th>5</th>\n",
       "      <td>45331</td>\n",
       "      <td>COORDENAÇÃO DE CABINE</td>\n",
       "      <td>DESEMPENHO DO SER HUMANO</td>\n",
       "      <td>OPERAÇÃO DA AERONAVE</td>\n",
       "      <td>FATOR OPERACIONAL</td>\n",
       "    </tr>\n",
       "    <tr>\n",
       "      <th>6</th>\n",
       "      <td>45331</td>\n",
       "      <td>CULTURA DO GRUPO DE TRABALHO</td>\n",
       "      <td>ASPECTO PSICOLÓGICO</td>\n",
       "      <td>PSICOSSOCIAL</td>\n",
       "      <td>FATOR HUMANO</td>\n",
       "    </tr>\n",
       "    <tr>\n",
       "      <th>7</th>\n",
       "      <td>45331</td>\n",
       "      <td>CULTURA ORGANIZACIONAL</td>\n",
       "      <td>ASPECTO PSICOLÓGICO</td>\n",
       "      <td>ORGANIZACIONAL</td>\n",
       "      <td>FATOR HUMANO</td>\n",
       "    </tr>\n",
       "    <tr>\n",
       "      <th>8</th>\n",
       "      <td>45331</td>\n",
       "      <td>DESVIO DE NAVEGAÇÃO</td>\n",
       "      <td>DESEMPENHO DO SER HUMANO</td>\n",
       "      <td>OPERAÇÃO DA AERONAVE</td>\n",
       "      <td>FATOR OPERACIONAL</td>\n",
       "    </tr>\n",
       "    <tr>\n",
       "      <th>9</th>\n",
       "      <td>45331</td>\n",
       "      <td>DINÂMICA DE EQUIPE</td>\n",
       "      <td>ASPECTO PSICOLÓGICO</td>\n",
       "      <td>PSICOSSOCIAL</td>\n",
       "      <td>FATOR HUMANO</td>\n",
       "    </tr>\n",
       "  </tbody>\n",
       "</table>\n",
       "</div>"
      ],
      "text/plain": [
       "   codigo_ocorrencia3                    fator_nome             fator_aspecto  \\\n",
       "0               45331         APLICAÇÃO DE COMANDOS  DESEMPENHO DO SER HUMANO   \n",
       "1               45331                       ATENÇÃO       ASPECTO PSICOLÓGICO   \n",
       "2               45331     CAPACITAÇÃO E TREINAMENTO       ASPECTO PSICOLÓGICO   \n",
       "3               45331          CLIMA ORGANIZACIONAL       ASPECTO PSICOLÓGICO   \n",
       "4               45331                   COMUNICAÇÃO       ASPECTO PSICOLÓGICO   \n",
       "5               45331         COORDENAÇÃO DE CABINE  DESEMPENHO DO SER HUMANO   \n",
       "6               45331  CULTURA DO GRUPO DE TRABALHO       ASPECTO PSICOLÓGICO   \n",
       "7               45331        CULTURA ORGANIZACIONAL       ASPECTO PSICOLÓGICO   \n",
       "8               45331           DESVIO DE NAVEGAÇÃO  DESEMPENHO DO SER HUMANO   \n",
       "9               45331            DINÂMICA DE EQUIPE       ASPECTO PSICOLÓGICO   \n",
       "\n",
       "    fator_condicionante         fator_area  \n",
       "0  OPERAÇÃO DA AERONAVE  FATOR OPERACIONAL  \n",
       "1            INDIVIDUAL       FATOR HUMANO  \n",
       "2        ORGANIZACIONAL       FATOR HUMANO  \n",
       "3        ORGANIZACIONAL       FATOR HUMANO  \n",
       "4          PSICOSSOCIAL       FATOR HUMANO  \n",
       "5  OPERAÇÃO DA AERONAVE  FATOR OPERACIONAL  \n",
       "6          PSICOSSOCIAL       FATOR HUMANO  \n",
       "7        ORGANIZACIONAL       FATOR HUMANO  \n",
       "8  OPERAÇÃO DA AERONAVE  FATOR OPERACIONAL  \n",
       "9          PSICOSSOCIAL       FATOR HUMANO  "
      ]
     },
     "execution_count": 13,
     "metadata": {},
     "output_type": "execute_result"
    }
   ],
   "source": [
    "fator_contribuinte_df.head(10)"
   ]
  },
  {
   "cell_type": "code",
   "execution_count": 14,
   "id": "d79f8902",
   "metadata": {
    "scrolled": true
   },
   "outputs": [
    {
     "name": "stdout",
     "output_type": "stream",
     "text": [
      "<class 'pandas.core.frame.DataFrame'>\n",
      "RangeIndex: 3464 entries, 0 to 3463\n",
      "Data columns (total 5 columns):\n",
      " #   Column               Non-Null Count  Dtype \n",
      "---  ------               --------------  ----- \n",
      " 0   codigo_ocorrencia3   3464 non-null   int64 \n",
      " 1   fator_nome           3464 non-null   object\n",
      " 2   fator_aspecto        3464 non-null   object\n",
      " 3   fator_condicionante  3464 non-null   object\n",
      " 4   fator_area           3464 non-null   object\n",
      "dtypes: int64(1), object(4)\n",
      "memory usage: 135.4+ KB\n"
     ]
    }
   ],
   "source": [
    "fator_contribuinte_df.info()"
   ]
  },
  {
   "cell_type": "code",
   "execution_count": 15,
   "id": "2345110b",
   "metadata": {},
   "outputs": [
    {
     "data": {
      "application/vnd.jupyter.widget-view+json": {
       "model_id": "8b7bff7c996d4903b23a25e4c286c3c6",
       "version_major": 2,
       "version_minor": 0
      },
      "text/plain": [
       "Summarize dataset:   0%|          | 0/5 [00:00<?, ?it/s]"
      ]
     },
     "metadata": {},
     "output_type": "display_data"
    },
    {
     "data": {
      "application/vnd.jupyter.widget-view+json": {
       "model_id": "07ce7e408fcd4ba4a5dd5b9a115b87a5",
       "version_major": 2,
       "version_minor": 0
      },
      "text/plain": [
       "Generate report structure:   0%|          | 0/1 [00:00<?, ?it/s]"
      ]
     },
     "metadata": {},
     "output_type": "display_data"
    },
    {
     "data": {
      "application/vnd.jupyter.widget-view+json": {
       "model_id": "471e7d3ce7384e549cb2ad250938f9f3",
       "version_major": 2,
       "version_minor": 0
      },
      "text/plain": [
       "Render HTML:   0%|          | 0/1 [00:00<?, ?it/s]"
      ]
     },
     "metadata": {},
     "output_type": "display_data"
    },
    {
     "data": {
      "application/vnd.jupyter.widget-view+json": {
       "model_id": "a58c166d47c7478fb07340df2de81cee",
       "version_major": 2,
       "version_minor": 0
      },
      "text/plain": [
       "Export report to file:   0%|          | 0/1 [00:00<?, ?it/s]"
      ]
     },
     "metadata": {},
     "output_type": "display_data"
    }
   ],
   "source": [
    "prof_fator_contribuinte = ProfileReport(fator_contribuinte_df)\n",
    "prof_fator_contribuinte.to_file(output_file='../Profiling/profiling_fator_contribuinte.html')"
   ]
  },
  {
   "cell_type": "markdown",
   "id": "cccc3e09",
   "metadata": {},
   "source": [
    "## Recomendação"
   ]
  },
  {
   "cell_type": "code",
   "execution_count": 16,
   "id": "457bb422",
   "metadata": {},
   "outputs": [
    {
     "data": {
      "text/html": [
       "<div>\n",
       "<style scoped>\n",
       "    .dataframe tbody tr th:only-of-type {\n",
       "        vertical-align: middle;\n",
       "    }\n",
       "\n",
       "    .dataframe tbody tr th {\n",
       "        vertical-align: top;\n",
       "    }\n",
       "\n",
       "    .dataframe thead th {\n",
       "        text-align: right;\n",
       "    }\n",
       "</style>\n",
       "<table border=\"1\" class=\"dataframe\">\n",
       "  <thead>\n",
       "    <tr style=\"text-align: right;\">\n",
       "      <th></th>\n",
       "      <th>codigo_ocorrencia4</th>\n",
       "      <th>recomendacao_numero</th>\n",
       "      <th>recomendacao_dia_assinatura</th>\n",
       "      <th>recomendacao_dia_encaminhamento</th>\n",
       "      <th>recomendacao_dia_feedback</th>\n",
       "      <th>recomendacao_conteudo</th>\n",
       "      <th>recomendacao_status</th>\n",
       "      <th>recomendacao_destinatario_sigla</th>\n",
       "      <th>recomendacao_destinatario</th>\n",
       "    </tr>\n",
       "  </thead>\n",
       "  <tbody>\n",
       "    <tr>\n",
       "      <th>0</th>\n",
       "      <td>45331</td>\n",
       "      <td>A-582/CENIPA/2014 - 01</td>\n",
       "      <td>2016-07-29</td>\n",
       "      <td>2016-08-25</td>\n",
       "      <td>2016-12-20</td>\n",
       "      <td>Atuar junto às empresas que operam segundo o R...</td>\n",
       "      <td>CUMPRIDA</td>\n",
       "      <td>ANAC</td>\n",
       "      <td>AGÊNCIA NACIONAL DE AVIAÇÃO CIVIL</td>\n",
       "    </tr>\n",
       "    <tr>\n",
       "      <th>1</th>\n",
       "      <td>45331</td>\n",
       "      <td>A-582/CENIPA/2014 - 02</td>\n",
       "      <td>2016-07-29</td>\n",
       "      <td>2016-08-25</td>\n",
       "      <td>2016-12-20</td>\n",
       "      <td>Atuar junto à Administração do Aeroporto Inter...</td>\n",
       "      <td>CUMPRIDA</td>\n",
       "      <td>ANAC</td>\n",
       "      <td>AGÊNCIA NACIONAL DE AVIAÇÃO CIVIL</td>\n",
       "    </tr>\n",
       "    <tr>\n",
       "      <th>2</th>\n",
       "      <td>45331</td>\n",
       "      <td>A-582/CENIPA/2014 - 03</td>\n",
       "      <td>2016-07-29</td>\n",
       "      <td>2016-08-25</td>\n",
       "      <td>NaN</td>\n",
       "      <td>Orientar as suas organizações subordinadas em ...</td>\n",
       "      <td>AGUARDANDO RESPOSTA</td>\n",
       "      <td>DECEA</td>\n",
       "      <td>DEPARTAMENTO DE CONTROLE DE ESPAÇO AÉREO</td>\n",
       "    </tr>\n",
       "    <tr>\n",
       "      <th>3</th>\n",
       "      <td>45392</td>\n",
       "      <td>A-032/CENIPA/2014 - RSV 001</td>\n",
       "      <td>2014-04-07</td>\n",
       "      <td>2015-04-14</td>\n",
       "      <td>2015-08-21</td>\n",
       "      <td>Divulgar aos operadores de helicópteros vincul...</td>\n",
       "      <td>CUMPRIDA DE FORMA ALTERNATIVA</td>\n",
       "      <td>ANAC</td>\n",
       "      <td>AGÊNCIA NACIONAL DE AVIAÇÃO CIVIL</td>\n",
       "    </tr>\n",
       "    <tr>\n",
       "      <th>4</th>\n",
       "      <td>45392</td>\n",
       "      <td>A-032/CENIPA/2014 - RSV 002</td>\n",
       "      <td>2014-04-07</td>\n",
       "      <td>2015-04-14</td>\n",
       "      <td>2015-08-17</td>\n",
       "      <td>Tendo em vista os fatos levantados nesta inves...</td>\n",
       "      <td>NÃO CUMPRIDA</td>\n",
       "      <td>ANAC</td>\n",
       "      <td>AGÊNCIA NACIONAL DE AVIAÇÃO CIVIL</td>\n",
       "    </tr>\n",
       "    <tr>\n",
       "      <th>5</th>\n",
       "      <td>45397</td>\n",
       "      <td>IG-536/CENIPA/2014 - 01</td>\n",
       "      <td>2016-04-15</td>\n",
       "      <td>2016-05-17</td>\n",
       "      <td>2017-02-21</td>\n",
       "      <td>Certificar-se que a IS n° 00-002B, no capítulo...</td>\n",
       "      <td>CUMPRIDA</td>\n",
       "      <td>ANAC</td>\n",
       "      <td>AGÊNCIA NACIONAL DE AVIAÇÃO CIVIL</td>\n",
       "    </tr>\n",
       "    <tr>\n",
       "      <th>6</th>\n",
       "      <td>45397</td>\n",
       "      <td>IG-536/CENIPA/2014 - 02</td>\n",
       "      <td>2016-04-15</td>\n",
       "      <td>2016-05-17</td>\n",
       "      <td>2017-02-24</td>\n",
       "      <td>Certificar-se de que o tempo limite para revis...</td>\n",
       "      <td>CUMPRIDA</td>\n",
       "      <td>ANAC</td>\n",
       "      <td>AGÊNCIA NACIONAL DE AVIAÇÃO CIVIL</td>\n",
       "    </tr>\n",
       "    <tr>\n",
       "      <th>7</th>\n",
       "      <td>45400</td>\n",
       "      <td>IG-544/CENIPA/2015 - 01</td>\n",
       "      <td>2017-03-31</td>\n",
       "      <td>2017-03-31</td>\n",
       "      <td>NaN</td>\n",
       "      <td>Assegurar-se que os pilotos que operam aeronav...</td>\n",
       "      <td>AGUARDANDO RESPOSTA</td>\n",
       "      <td>ANAC</td>\n",
       "      <td>AGÊNCIA NACIONAL DE AVIAÇÃO CIVIL</td>\n",
       "    </tr>\n",
       "    <tr>\n",
       "      <th>8</th>\n",
       "      <td>45400</td>\n",
       "      <td>IG-544/CENIPA/2015 - 02</td>\n",
       "      <td>2017-03-31</td>\n",
       "      <td>2017-03-31</td>\n",
       "      <td>NaN</td>\n",
       "      <td>Realizar gestões junto ao operador, a fim de a...</td>\n",
       "      <td>AGUARDANDO RESPOSTA</td>\n",
       "      <td>ANAC</td>\n",
       "      <td>AGÊNCIA NACIONAL DE AVIAÇÃO CIVIL</td>\n",
       "    </tr>\n",
       "    <tr>\n",
       "      <th>9</th>\n",
       "      <td>45400</td>\n",
       "      <td>IG-544/CENIPA/2015 - 03</td>\n",
       "      <td>2017-03-31</td>\n",
       "      <td>2017-03-31</td>\n",
       "      <td>NaN</td>\n",
       "      <td>Realizar gestões junto ao operador, a fim de g...</td>\n",
       "      <td>AGUARDANDO RESPOSTA</td>\n",
       "      <td>ANAC</td>\n",
       "      <td>AGÊNCIA NACIONAL DE AVIAÇÃO CIVIL</td>\n",
       "    </tr>\n",
       "  </tbody>\n",
       "</table>\n",
       "</div>"
      ],
      "text/plain": [
       "   codigo_ocorrencia4          recomendacao_numero  \\\n",
       "0               45331       A-582/CENIPA/2014 - 01   \n",
       "1               45331       A-582/CENIPA/2014 - 02   \n",
       "2               45331       A-582/CENIPA/2014 - 03   \n",
       "3               45392  A-032/CENIPA/2014 - RSV 001   \n",
       "4               45392  A-032/CENIPA/2014 - RSV 002   \n",
       "5               45397      IG-536/CENIPA/2014 - 01   \n",
       "6               45397      IG-536/CENIPA/2014 - 02   \n",
       "7               45400      IG-544/CENIPA/2015 - 01   \n",
       "8               45400      IG-544/CENIPA/2015 - 02   \n",
       "9               45400      IG-544/CENIPA/2015 - 03   \n",
       "\n",
       "  recomendacao_dia_assinatura recomendacao_dia_encaminhamento  \\\n",
       "0                  2016-07-29                      2016-08-25   \n",
       "1                  2016-07-29                      2016-08-25   \n",
       "2                  2016-07-29                      2016-08-25   \n",
       "3                  2014-04-07                      2015-04-14   \n",
       "4                  2014-04-07                      2015-04-14   \n",
       "5                  2016-04-15                      2016-05-17   \n",
       "6                  2016-04-15                      2016-05-17   \n",
       "7                  2017-03-31                      2017-03-31   \n",
       "8                  2017-03-31                      2017-03-31   \n",
       "9                  2017-03-31                      2017-03-31   \n",
       "\n",
       "  recomendacao_dia_feedback  \\\n",
       "0                2016-12-20   \n",
       "1                2016-12-20   \n",
       "2                       NaN   \n",
       "3                2015-08-21   \n",
       "4                2015-08-17   \n",
       "5                2017-02-21   \n",
       "6                2017-02-24   \n",
       "7                       NaN   \n",
       "8                       NaN   \n",
       "9                       NaN   \n",
       "\n",
       "                               recomendacao_conteudo  \\\n",
       "0  Atuar junto às empresas que operam segundo o R...   \n",
       "1  Atuar junto à Administração do Aeroporto Inter...   \n",
       "2  Orientar as suas organizações subordinadas em ...   \n",
       "3  Divulgar aos operadores de helicópteros vincul...   \n",
       "4  Tendo em vista os fatos levantados nesta inves...   \n",
       "5  Certificar-se que a IS n° 00-002B, no capítulo...   \n",
       "6  Certificar-se de que o tempo limite para revis...   \n",
       "7  Assegurar-se que os pilotos que operam aeronav...   \n",
       "8  Realizar gestões junto ao operador, a fim de a...   \n",
       "9  Realizar gestões junto ao operador, a fim de g...   \n",
       "\n",
       "             recomendacao_status recomendacao_destinatario_sigla  \\\n",
       "0                       CUMPRIDA                            ANAC   \n",
       "1                       CUMPRIDA                            ANAC   \n",
       "2            AGUARDANDO RESPOSTA                           DECEA   \n",
       "3  CUMPRIDA DE FORMA ALTERNATIVA                            ANAC   \n",
       "4                   NÃO CUMPRIDA                            ANAC   \n",
       "5                       CUMPRIDA                            ANAC   \n",
       "6                       CUMPRIDA                            ANAC   \n",
       "7            AGUARDANDO RESPOSTA                            ANAC   \n",
       "8            AGUARDANDO RESPOSTA                            ANAC   \n",
       "9            AGUARDANDO RESPOSTA                            ANAC   \n",
       "\n",
       "                  recomendacao_destinatario  \n",
       "0         AGÊNCIA NACIONAL DE AVIAÇÃO CIVIL  \n",
       "1         AGÊNCIA NACIONAL DE AVIAÇÃO CIVIL  \n",
       "2  DEPARTAMENTO DE CONTROLE DE ESPAÇO AÉREO  \n",
       "3         AGÊNCIA NACIONAL DE AVIAÇÃO CIVIL  \n",
       "4         AGÊNCIA NACIONAL DE AVIAÇÃO CIVIL  \n",
       "5         AGÊNCIA NACIONAL DE AVIAÇÃO CIVIL  \n",
       "6         AGÊNCIA NACIONAL DE AVIAÇÃO CIVIL  \n",
       "7         AGÊNCIA NACIONAL DE AVIAÇÃO CIVIL  \n",
       "8         AGÊNCIA NACIONAL DE AVIAÇÃO CIVIL  \n",
       "9         AGÊNCIA NACIONAL DE AVIAÇÃO CIVIL  "
      ]
     },
     "execution_count": 16,
     "metadata": {},
     "output_type": "execute_result"
    }
   ],
   "source": [
    "recomendacao_df.head(10)"
   ]
  },
  {
   "cell_type": "code",
   "execution_count": 17,
   "id": "5d1ce881",
   "metadata": {},
   "outputs": [
    {
     "name": "stdout",
     "output_type": "stream",
     "text": [
      "<class 'pandas.core.frame.DataFrame'>\n",
      "RangeIndex: 1197 entries, 0 to 1196\n",
      "Data columns (total 9 columns):\n",
      " #   Column                           Non-Null Count  Dtype \n",
      "---  ------                           --------------  ----- \n",
      " 0   codigo_ocorrencia4               1197 non-null   int64 \n",
      " 1   recomendacao_numero              1197 non-null   object\n",
      " 2   recomendacao_dia_assinatura      1197 non-null   object\n",
      " 3   recomendacao_dia_encaminhamento  1197 non-null   object\n",
      " 4   recomendacao_dia_feedback        765 non-null    object\n",
      " 5   recomendacao_conteudo            1195 non-null   object\n",
      " 6   recomendacao_status              1197 non-null   object\n",
      " 7   recomendacao_destinatario_sigla  1197 non-null   object\n",
      " 8   recomendacao_destinatario        1197 non-null   object\n",
      "dtypes: int64(1), object(8)\n",
      "memory usage: 84.3+ KB\n"
     ]
    }
   ],
   "source": [
    "recomendacao_df.info()"
   ]
  },
  {
   "cell_type": "code",
   "execution_count": 18,
   "id": "cc4ad209",
   "metadata": {},
   "outputs": [
    {
     "data": {
      "application/vnd.jupyter.widget-view+json": {
       "model_id": "9eaad3253c034d56b7f5f7f2398cd652",
       "version_major": 2,
       "version_minor": 0
      },
      "text/plain": [
       "Summarize dataset:   0%|          | 0/5 [00:00<?, ?it/s]"
      ]
     },
     "metadata": {},
     "output_type": "display_data"
    },
    {
     "data": {
      "application/vnd.jupyter.widget-view+json": {
       "model_id": "4f65834c8e4047f0abdc0ef8aa2a75b4",
       "version_major": 2,
       "version_minor": 0
      },
      "text/plain": [
       "Generate report structure:   0%|          | 0/1 [00:00<?, ?it/s]"
      ]
     },
     "metadata": {},
     "output_type": "display_data"
    },
    {
     "data": {
      "application/vnd.jupyter.widget-view+json": {
       "model_id": "f90512e928a1436fa193b413f79afdeb",
       "version_major": 2,
       "version_minor": 0
      },
      "text/plain": [
       "Render HTML:   0%|          | 0/1 [00:00<?, ?it/s]"
      ]
     },
     "metadata": {},
     "output_type": "display_data"
    },
    {
     "data": {
      "application/vnd.jupyter.widget-view+json": {
       "model_id": "8d8de716db8e42cd9af4323448d31fa8",
       "version_major": 2,
       "version_minor": 0
      },
      "text/plain": [
       "Export report to file:   0%|          | 0/1 [00:00<?, ?it/s]"
      ]
     },
     "metadata": {},
     "output_type": "display_data"
    }
   ],
   "source": [
    "prof_recomendacao = ProfileReport(recomendacao_df)\n",
    "prof_recomendacao.to_file(output_file='../Profiling/profiling_recomendacao.html')"
   ]
  },
  {
   "cell_type": "markdown",
   "id": "fa183420",
   "metadata": {},
   "source": [
    "---------------------------"
   ]
  },
  {
   "cell_type": "markdown",
   "id": "29d19fdc",
   "metadata": {},
   "source": [
    "# Data Cleaning"
   ]
  },
  {
   "cell_type": "markdown",
   "id": "b4b10c83",
   "metadata": {},
   "source": [
    "## 1. Dropando colunas pouco relevantes"
   ]
  },
  {
   "cell_type": "markdown",
   "id": "1662edfb",
   "metadata": {},
   "source": [
    "Algumas colunas não são relevantes para a análise que pretendo fazer.  \n",
    "Breve explicação da razão de cada um dos drops a seguir:\n",
    "### Ocorrência:\n",
    "- *ocorrencia_pais*: Valor constante, Brasil\n",
    "- *divulgacao_relatorio_numero*: Não entendi bem a razão de sua existência, 90% é missing data\n",
    "- *divulgacao_dia_publicacao*: Não é relevante para a análise que quero fazer no momento\n",
    "\n",
    "### Tipo de Ocorrência:\n",
    "- Sem drops\n",
    "\n",
    "### Aeronave:\n",
    "- *aeronave_pais_fabricante*: Quase sempre é Brasil, outros países não tem um N suficiente\n",
    "- *aeronave_pais_registro*: Quase sempre é Brasil, outros países não tem um N suficiente, ainda menos informativa que a do país fabricante, sinceramente\n",
    "\n",
    "### Fator Contribuinte:\n",
    "- Sem drops\n",
    "\n",
    "### Recomendação:\n",
    "- *recomendacao_numero*: Código pouco informativo para análise\n",
    "- *recomendacao_dia_assinatura*: O dia de assinatura vai de fatores para além do que podemos analisar com o DataSet, e pouco importa no geral\n",
    "- *recomendacao_destinatario*: Útil para uma análise específica sobre os relatórios, mas podemos ficar apenas com a sigla"
   ]
  },
  {
   "cell_type": "code",
   "execution_count": 19,
   "id": "75409322",
   "metadata": {},
   "outputs": [],
   "source": [
    "ocorrencia_df = ocorrencia_df.drop(columns=['ocorrencia_pais',\n",
    "                                           'divulgacao_relatorio_numero',\n",
    "                                           'divulgacao_dia_publicacao'])\n",
    "\n",
    "aeronave_df = aeronave_df.drop(columns=['aeronave_pais_fabricante',\n",
    "                                        'aeronave_pais_registro'])\n",
    "\n",
    "recomendacao_df = recomendacao_df.drop(columns=['recomendacao_numero',\n",
    "                                               'recomendacao_dia_assinatura',\n",
    "                                               'recomendacao_destinatario'])"
   ]
  },
  {
   "cell_type": "markdown",
   "id": "380cd51b",
   "metadata": {},
   "source": [
    "## 2. Associando Colunas"
   ]
  },
  {
   "cell_type": "markdown",
   "id": "12714fcc",
   "metadata": {},
   "source": [
    "Algumas colunas em \"Ocorrências\" fazem mais sentido se estiverem juntas. Por essa razão, vamos fazer algumas associações."
   ]
  },
  {
   "cell_type": "markdown",
   "id": "b1f5518a",
   "metadata": {},
   "source": [
    "### Ocorrência:\n",
    "- *ocorrencia_latitude* + *ocorrencia_longitude*: Dão a informação espacial completa de localização\n",
    "- *ocorrencia_cidade* + *ocorrencia_uf*: Dão a informação completa do município onde ocorreu o acidente"
   ]
  },
  {
   "cell_type": "code",
   "execution_count": 20,
   "id": "c4f34b34",
   "metadata": {},
   "outputs": [],
   "source": [
    "ocorrencia_df['ocorrencia_localizacao'] = ocorrencia_df['ocorrencia_latitude']+' / '+ocorrencia_df['ocorrencia_longitude']\n",
    "ocorrencia_df['ocorrencia_cidade'] = ocorrencia_df['ocorrencia_cidade']+' - '+ocorrencia_df['ocorrencia_uf']"
   ]
  },
  {
   "cell_type": "markdown",
   "id": "ffa4e95b",
   "metadata": {},
   "source": [
    "Assim, podemos dropar as colunas de latitude e longitude:"
   ]
  },
  {
   "cell_type": "code",
   "execution_count": 21,
   "id": "b34eac04",
   "metadata": {},
   "outputs": [],
   "source": [
    "ocorrencia_df = ocorrencia_df.drop(columns=['ocorrencia_latitude',\n",
    "                                           'ocorrencia_longitude'])"
   ]
  },
  {
   "cell_type": "markdown",
   "id": "4b2bda8a",
   "metadata": {},
   "source": [
    "## 3. Removendo inconsistências"
   ]
  },
  {
   "cell_type": "markdown",
   "id": "770fc060",
   "metadata": {},
   "source": [
    "Existem algumas **evidentes** inconsistências em valores de algumas colunas. Podem haver outras, mas minha limitação técnica complica as coisas.\n",
    "- *aeronave_ano_fabricacao*: Anos inferiores a 1900 e superiores a 2022 devem ser removidos\n",
    "- **aeronave_pmd_categoria**: Julgaria que o peso máximo perimitido não pode ser 0, deixarei uma flag aqui\n",
    "- **aeronave_assentos**: Podemos dizer que aviões de carga \"não possuem assentos\", mas eu deixaria uma flag aqui"
   ]
  },
  {
   "cell_type": "code",
   "execution_count": 22,
   "id": "c059be98",
   "metadata": {},
   "outputs": [],
   "source": [
    "NEW_aeronave_ano_fabricacao=[] # Novo array de ano de fabricação\n",
    "\n",
    "for val in aeronave_df['aeronave_ano_fabricacao']: # Loopando pelos valores da coluna aeronave_ano_fabricacao\n",
    "    if (val<1900) or (val>2022): # Nulificando valores inconsistentes\n",
    "        NEW_aeronave_ano_fabricacao.append(np.nan)\n",
    "    else:\n",
    "        NEW_aeronave_ano_fabricacao.append(val)\n",
    "        \n",
    "aeronave_df['aeronave_ano_fabricacao'] = NEW_aeronave_ano_fabricacao"
   ]
  },
  {
   "cell_type": "markdown",
   "id": "424fe14f",
   "metadata": {},
   "source": [
    "## 4. Removendo characters enganosos\n",
    "A partir das informações adiquiridas nos profilings anteriores, vamos remover alguns characters enganosos"
   ]
  },
  {
   "cell_type": "code",
   "execution_count": 23,
   "id": "fee813fd",
   "metadata": {},
   "outputs": [],
   "source": [
    "import re # Vamos utilizar regex para nos auxiliar na limpeza de texto"
   ]
  },
  {
   "cell_type": "markdown",
   "id": "65e41539",
   "metadata": {},
   "source": [
    "### 4.1 - Removendo chars invisíveis\n",
    "Chars do tipo tab e newline geralmente são associados a misstypes, e devem ser preferencialmente removidos."
   ]
  },
  {
   "cell_type": "code",
   "execution_count": 24,
   "id": "680340d4",
   "metadata": {},
   "outputs": [],
   "source": [
    "def remove_tabs_newlines(x):\n",
    "    \n",
    "    if type(x)=='str': # Apenas se for uma string\n",
    "        \n",
    "        text = re.sub('\\t', '', str(x))\n",
    "        text = re.sub('\\n', ' ', text)\n",
    "        \n",
    "        return text\n",
    "    \n",
    "    return x"
   ]
  },
  {
   "cell_type": "code",
   "execution_count": 25,
   "id": "17632931",
   "metadata": {},
   "outputs": [],
   "source": [
    "# Aplicando função \"remove_tabs_newlines\" em cada coluna de cada df\n",
    "for col in ocorrencia_df.columns:\n",
    "    ocorrencia_df[col] = ocorrencia_df[col].apply(remove_tabs_newlines)\n",
    "    \n",
    "for col in ocorrencia_tipo_df.columns:\n",
    "    ocorrencia_tipo_df[col] = ocorrencia_tipo_df[col].apply(remove_tabs_newlines)\n",
    "    \n",
    "for col in aeronave_df.columns:\n",
    "    aeronave_df[col] = aeronave_df[col].apply(remove_tabs_newlines)\n",
    "    \n",
    "for col in fator_contribuinte_df.columns:\n",
    "    fator_contribuinte_df[col] = fator_contribuinte_df[col].apply(remove_tabs_newlines)\n",
    "    \n",
    "for col in recomendacao_df.columns:\n",
    "    recomendacao_df[col] = recomendacao_df[col].apply(remove_tabs_newlines)"
   ]
  },
  {
   "cell_type": "markdown",
   "id": "2fb275fa",
   "metadata": {},
   "source": [
    "### 4.2 - Falsos não-nulos\n",
    "Por convenção da CENIPA, no DataSet utiliza-se asteríscos e hashtags para representar dados faltantes."
   ]
  },
  {
   "cell_type": "code",
   "execution_count": 26,
   "id": "78d8de97",
   "metadata": {},
   "outputs": [],
   "source": [
    "# Função para caracterizar devidamente campos nulos\n",
    "def fix_nulls(x):\n",
    "    \n",
    "    # Essa regex retorna uma lista com a string se ela for composta apenas de \"*\" ou \"#\", ou [], c.c.\n",
    "    if len(re.findall('^[*]+',str(x))) > 0: \n",
    "        return np.nan\n",
    "    \n",
    "    if len(re.findall('^[#]+',str(x))) > 0: \n",
    "        return np.nan\n",
    "    \n",
    "    return x"
   ]
  },
  {
   "cell_type": "code",
   "execution_count": 27,
   "id": "e296971e",
   "metadata": {},
   "outputs": [],
   "source": [
    "# Aplicando função \"fix_nulls\" em cada coluna de cada df\n",
    "for col in ocorrencia_df.columns:\n",
    "    ocorrencia_df[col] = ocorrencia_df[col].apply(fix_nulls)\n",
    "    \n",
    "for col in ocorrencia_tipo_df.columns:\n",
    "    ocorrencia_tipo_df[col] = ocorrencia_tipo_df[col].apply(fix_nulls)\n",
    "    \n",
    "for col in aeronave_df.columns:\n",
    "    aeronave_df[col] = aeronave_df[col].apply(fix_nulls)\n",
    "    \n",
    "for col in fator_contribuinte_df.columns:\n",
    "    fator_contribuinte_df[col] = fator_contribuinte_df[col].apply(fix_nulls)\n",
    "    \n",
    "for col in recomendacao_df.columns:\n",
    "    recomendacao_df[col] = recomendacao_df[col].apply(fix_nulls)"
   ]
  },
  {
   "cell_type": "markdown",
   "id": "936f02c4",
   "metadata": {},
   "source": [
    "## 5. Conversão para pd.date_time\n",
    "Vamos converter algumas colunas para datetime e criar colunas relevantes para análise em cima disso.\n",
    "\n",
    "### Ocorrência:\n",
    "- *ocorrencia_dia*\n",
    "- *ocorrencia_hora*\n",
    "\n",
    "### Recomendação:\n",
    "- *recomendacao_dia_encaminhamento*\n",
    "- *recomendacao_dia_feedback*\n",
    "\n",
    "Demais colunas que se referem a data ou hora serão dropadas em breve por não se mostrarem relevantes para a análise"
   ]
  },
  {
   "cell_type": "code",
   "execution_count": 28,
   "id": "dae7cd82",
   "metadata": {},
   "outputs": [],
   "source": [
    "from dateutil import parser\n",
    "\n",
    "# Função para converter valor para datetime\n",
    "def parse_to_DT(x):\n",
    "\n",
    "    try:\n",
    "        return parser.parse(x)\n",
    "    except:\n",
    "        return np.nan"
   ]
  },
  {
   "cell_type": "code",
   "execution_count": 29,
   "id": "8ef2921f",
   "metadata": {},
   "outputs": [],
   "source": [
    "# Retorna a diferença de dias entre duas datas\n",
    "def contagem_dias(x):\n",
    "    \n",
    "    try:\n",
    "        days = int((x[1]-x[0]).days)\n",
    "        if days < 0: # Caso de dar \"dias negativos\", inconsistente\n",
    "            return np.nan\n",
    "        return days\n",
    "    except:\n",
    "        return np.nan"
   ]
  },
  {
   "cell_type": "code",
   "execution_count": 30,
   "id": "c1aa1e03",
   "metadata": {},
   "outputs": [],
   "source": [
    "# Criando uma coluna datetime de dia e hora do acidente\n",
    "ocorrencia_df['ocorrencia_DT'] = (ocorrencia_df['ocorrencia_hora'] + ' ' + ocorrencia_df['ocorrencia_dia']).apply(parse_to_DT)\n",
    "ocorrencia_df['ocorrencia_dia'] = ocorrencia_df['ocorrencia_DT'].dt.day\n",
    "ocorrencia_df['ocorrencia_mes'] = ocorrencia_df['ocorrencia_DT'].dt.month\n",
    "ocorrencia_df['ocorrencia_hora'] = ocorrencia_df['ocorrencia_DT'].dt.hour\n",
    "\n",
    "# Criando uma coluna com dias de demora no feedback\n",
    "encaminhamento_DT = recomendacao_df['recomendacao_dia_encaminhamento'].apply(parse_to_DT)\n",
    "feedback_DT = recomendacao_df['recomendacao_dia_feedback'].apply(parse_to_DT)\n",
    "\n",
    "recomendacao_df['recomendacao_dias_para_feedback'] = [contagem_dias([encaminhamento_DT[i],\n",
    "                                                                    feedback_DT[i]]) for i in range(len(recomendacao_df))]"
   ]
  },
  {
   "cell_type": "markdown",
   "id": "50f39822",
   "metadata": {},
   "source": [
    "Agora podemos remover mais três colunas:\n",
    "- *ocorrencia_dt*: Só nos realmente interessa mês, dia e hora. **Premissa**: os demais são \"aleatórios\"\n",
    "- *recomendacao_dia_encaminhamento*: Situação similar a de recomendacao_dia_assinatura\n",
    "- *recomendacao_dia_feedback*: Situação similar a de recomendacao_dia_assinatura"
   ]
  },
  {
   "cell_type": "code",
   "execution_count": 31,
   "id": "ebd2ff8e",
   "metadata": {},
   "outputs": [],
   "source": [
    "ocorrencia_df = ocorrencia_df.drop(columns=['ocorrencia_DT'])\n",
    "\n",
    "recomendacao_df = recomendacao_df.drop(columns=['recomendacao_dia_encaminhamento',\n",
    "                                               'recomendacao_dia_feedback'])"
   ]
  },
  {
   "cell_type": "markdown",
   "id": "b12ab162",
   "metadata": {},
   "source": [
    "## 5. Salvando DataFrames limpos"
   ]
  },
  {
   "cell_type": "code",
   "execution_count": 33,
   "id": "27a84b20",
   "metadata": {},
   "outputs": [],
   "source": [
    "ocorrencia_df.to_csv('../DataSets/polished/ocorrencia.csv',index_label=False)\n",
    "ocorrencia_tipo_df.to_csv('../DataSets/polished/ocorrencia_tipo.csv',index_label=False)\n",
    "aeronave_df.to_csv('../DataSets/polished/aeronave.csv',index_label=False)\n",
    "fator_contribuinte_df.to_csv('../DataSets/polished/fator_contribuinte.csv',index_label=False)\n",
    "recomendacao_df.to_csv('../DataSets/polished/recomendacao.csv',index_label=False)"
   ]
  }
 ],
 "metadata": {
  "kernelspec": {
   "display_name": "Python 3",
   "language": "python",
   "name": "python3"
  },
  "language_info": {
   "codemirror_mode": {
    "name": "ipython",
    "version": 3
   },
   "file_extension": ".py",
   "mimetype": "text/x-python",
   "name": "python",
   "nbconvert_exporter": "python",
   "pygments_lexer": "ipython3",
   "version": "3.8.8"
  }
 },
 "nbformat": 4,
 "nbformat_minor": 5
}
